{
 "cells": [
  {
   "cell_type": "code",
   "execution_count": 1,
   "metadata": {},
   "outputs": [],
   "source": [
    "# project: p4\n",
    "# submitter-netid: cjohnstone\n",
    "# partner-netid: none"
   ]
  },
  {
   "cell_type": "code",
   "execution_count": 2,
   "metadata": {},
   "outputs": [
    {
     "name": "stdout",
     "output_type": "stream",
     "text": [
      "How many tries do you want for each question: 3\n",
      "\n",
      "\n"
     ]
    }
   ],
   "source": [
    "num=input(\"How many tries do you want for each question: \")\n",
    "num=int(num)\n",
    "print(\"\\n\")"
   ]
  },
  {
   "cell_type": "code",
   "execution_count": null,
   "metadata": {
    "scrolled": true
   },
   "outputs": [
    {
     "name": "stdout",
     "output_type": "stream",
     "text": [
      "What is the type of the following? \"1.0\" + \"2.0\"\n",
      "a) int\n",
      "b) float\n",
      "c) str\n",
      "d) bool\n",
      "e) NoneType\n",
      "\n",
      "\n",
      "Your answer: a\n",
      "\n",
      "\n",
      "You have this many remaining tries: 2\n",
      "You answered 'a'.\n",
      "\n",
      "\n",
      "Your answer: a\n",
      "\n",
      "\n",
      "Check the textbook\n",
      "You answered 'a'.\n",
      "\n",
      "\n",
      "Your answer: a\\\n",
      "\n",
      "\n",
      "You have this many remaining tries: 0\n",
      "You answered 'a\\'. The correct answer is 'c'.\n"
     ]
    }
   ],
   "source": [
    "def askQuestion(question, answer, hint):\n",
    "    newnum=num\n",
    "    print(question)\n",
    "    while num>0:\n",
    "        print(\"\\n\")\n",
    "        str1=input(\"Your answer: \")\n",
    "        newnum=newnum-1\n",
    "        str2=str1\n",
    "        print(\"\\n\")\n",
    "        str2=str2.strip()\n",
    "        str2=str2.lower()\n",
    "        if str2 == answer:\n",
    "            print(\"Congratulations! You got it right.\")\n",
    "            print(\"\\n\")\n",
    "            return (1)\n",
    "        elif newnum==1:\n",
    "            print(hint)\n",
    "            print(\"You have this many remaining tries: \"+ str(newnum))\n",
    "        elif newnum==0:\n",
    "            print(\"You answered '\"+ str1+\"'. The correct answer is '\"+answer+\"'.\")\n",
    "            print(\"You have this many remaining tries: \"+ str(newnum))\n",
    "            return (0)\n",
    "        else:\n",
    "            print(\"You have this many remaining tries: \"+ str(newnum))\n",
    "            \n",
    "                \n",
    "\n",
    "ans1=askQuestion('What is the type of the following? \"1.0\" + \"2.0\"\\na) int\\nb) float\\nc) str\\nd) bool\\ne) NoneType', \"c\", \"Check the textbook\")"
   ]
  },
  {
   "cell_type": "code",
   "execution_count": null,
   "metadata": {},
   "outputs": [
    {
     "name": "stdout",
     "output_type": "stream",
     "text": [
      "What is the type of the following? \"1\" * 2\n",
      "\n",
      "\n"
     ]
    }
   ],
   "source": [
    "ans2=askQuestion('What is the type of the following? \"1\" * 2', \"str\", \"notice the quotes!\")"
   ]
  },
  {
   "cell_type": "code",
   "execution_count": null,
   "metadata": {},
   "outputs": [],
   "source": [
    "ans3=askQuestion('What does this expression evaluate to?\\nTrue != (3 < 2)', \"true\", \"Calcuate the right side first. Don't forget != means not equal to.\")"
   ]
  },
  {
   "cell_type": "code",
   "execution_count": null,
   "metadata": {},
   "outputs": [],
   "source": [
    "ans=ans1+ans2+ans3\n",
    "print(\"You tried 3 questions and got \"+str(ans) +\" right.\")"
   ]
  }
 ],
 "metadata": {
  "kernelspec": {
   "display_name": "Python 3",
   "language": "python",
   "name": "python3"
  },
  "language_info": {
   "codemirror_mode": {
    "name": "ipython",
    "version": 3
   },
   "file_extension": ".py",
   "mimetype": "text/x-python",
   "name": "python",
   "nbconvert_exporter": "python",
   "pygments_lexer": "ipython3",
   "version": "3.7.2"
  }
 },
 "nbformat": 4,
 "nbformat_minor": 2
}
