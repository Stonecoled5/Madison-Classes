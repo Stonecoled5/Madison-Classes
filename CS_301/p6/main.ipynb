{
 "cells": [
  {
   "cell_type": "code",
   "execution_count": 1,
   "metadata": {},
   "outputs": [],
   "source": [
    "# project: p6\n",
    "# submitter-netid: cjohnstone\n",
    "# partner-netid: none\n",
    "import csv\n",
    "def process_csv(filename):\n",
    "    exampleFile = open(filename, encoding=\"utf-8\")\n",
    "    exampleReader = csv.reader(exampleFile)\n",
    "    exampleData = list(exampleReader)\n",
    "    return exampleData\n",
    "\n",
    "csv_rows = process_csv(\"wine.csv\")\n",
    "csv_header = csv_rows[0]\n",
    "csv_data = csv_rows[1:]\n",
    "\n",
    "def cell(row_idx, col_name):\n",
    "    col_idx = csv_header.index(col_name)\n",
    "    val = csv_data[row_idx][col_idx]\n",
    "    if val == \"\":\n",
    "        return None\n",
    "\n",
    "    return val"
   ]
  },
  {
   "cell_type": "code",
   "execution_count": 2,
   "metadata": {},
   "outputs": [
    {
     "data": {
      "text/plain": [
       "['US',\n",
       " 'Spain',\n",
       " 'France',\n",
       " 'Italy',\n",
       " 'New Zealand',\n",
       " 'Bulgaria',\n",
       " 'Argentina',\n",
       " 'Australia',\n",
       " 'Portugal',\n",
       " 'Israel',\n",
       " 'South Africa',\n",
       " 'Greece',\n",
       " 'Chile',\n",
       " 'Morocco',\n",
       " 'Romania',\n",
       " 'Germany',\n",
       " 'Canada',\n",
       " 'Moldova',\n",
       " 'Hungary',\n",
       " 'Austria',\n",
       " 'Croatia',\n",
       " 'Slovenia',\n",
       " 'India']"
      ]
     },
     "execution_count": 2,
     "metadata": {},
     "output_type": "execute_result"
    }
   ],
   "source": [
    "#q1\n",
    "list1=[]\n",
    "for i in range(len(csv_data)):\n",
    "    country=cell(i, \"country\")\n",
    "    if len(list1)<1:\n",
    "        list1.append(country)\n",
    "    for j in list1:\n",
    "        if j==country:\n",
    "            num=1\n",
    "            break\n",
    "    if num>0:\n",
    "        num=0\n",
    "    elif country!= None:\n",
    "        list1.append(country)\n",
    "        \n",
    "           \n",
    "list1       "
   ]
  },
  {
   "cell_type": "code",
   "execution_count": 3,
   "metadata": {},
   "outputs": [
    {
     "data": {
      "text/plain": [
       "39.40787623066104"
      ]
     },
     "execution_count": 3,
     "metadata": {},
     "output_type": "execute_result"
    }
   ],
   "source": [
    "#q2\n",
    "total_price=0\n",
    "num=0\n",
    "for i in range(len(csv_data)):\n",
    "    price=cell(i, \"price\")\n",
    "    if price != None:\n",
    "        total_price=total_price +float(price)\n",
    "        num+=1\n",
    "ave=total_price/num\n",
    "ave"
   ]
  },
  {
   "cell_type": "code",
   "execution_count": 4,
   "metadata": {},
   "outputs": [
    {
     "data": {
      "text/plain": [
       "['Tinta de Toro',\n",
       " 'Tempranillo',\n",
       " 'Tempranillo Blend',\n",
       " 'Mencía',\n",
       " 'Palomino',\n",
       " 'Monastrell',\n",
       " 'Albariño',\n",
       " 'Sparkling Blend',\n",
       " 'Godello',\n",
       " 'Red Blend',\n",
       " 'White Blend',\n",
       " 'Sherry',\n",
       " 'Garnacha',\n",
       " 'Moscatel',\n",
       " 'Garnacha Blanca',\n",
       " 'Grenache-Syrah']"
      ]
     },
     "execution_count": 4,
     "metadata": {},
     "output_type": "execute_result"
    }
   ],
   "source": [
    "#q3\n",
    "list1=[]\n",
    "for i in range(len(csv_data)):\n",
    "    country=cell(i, \"country\")\n",
    "    wine=cell(i,\"variety\")\n",
    "    if len(list1)<1 and country==\"Spain\":\n",
    "        list1.append(wine)\n",
    "    for j in list1:\n",
    "        if j==wine:\n",
    "            num=1\n",
    "            break\n",
    "    if num>0:\n",
    "        num=0\n",
    "    elif wine!= None:\n",
    "        if country==\"Spain\":\n",
    "            list1.append(wine)\n",
    "        \n",
    "           \n",
    "list1"
   ]
  },
  {
   "cell_type": "code",
   "execution_count": 5,
   "metadata": {},
   "outputs": [
    {
     "data": {
      "text/plain": [
       "['Château Pégau',\n",
       " 'Hawk Watch Winery',\n",
       " 'Laird',\n",
       " 'MCV',\n",
       " 'Tetra',\n",
       " 'Beronia',\n",
       " 'Adelaida Cellars',\n",
       " 'Palmeri',\n",
       " 'Sevtap',\n",
       " 'Montes',\n",
       " 'Fess Parker',\n",
       " 'Andrew Murray',\n",
       " 'Clos La Chance']"
      ]
     },
     "execution_count": 5,
     "metadata": {},
     "output_type": "execute_result"
    }
   ],
   "source": [
    "#q4\n",
    "list1=[]\n",
    "for i in range(len(csv_data)):\n",
    "    winery=cell(i, \"winery\")\n",
    "    description=cell(i,\"description\")\n",
    "    description=description.lower()\n",
    "    if len(list1)<1 and description.find(\"beef\")!=-1:\n",
    "        list1.append(winery)\n",
    "    for j in list1:\n",
    "        if j==winery:\n",
    "            num=1\n",
    "            break\n",
    "    if num>0:\n",
    "        num=0\n",
    "    elif winery!= None:\n",
    "        if description.find(\"beef\")!=-1:\n",
    "            list1.append(winery)\n",
    "        \n",
    "           \n",
    "list1"
   ]
  },
  {
   "cell_type": "code",
   "execution_count": 6,
   "metadata": {},
   "outputs": [
    {
     "data": {
      "text/plain": [
       "['Santa Cruz Mountain Vineyard',\n",
       " 'Stephen Ross',\n",
       " 'Heron Hill',\n",
       " 'Fattoria di Magliano',\n",
       " 'Quinta Nova de Nossa Senhora do Carmo',\n",
       " 'Byron',\n",
       " 'Bürgermeister Willi Schweinhardt',\n",
       " 'MCV',\n",
       " 'Dr. H. Thanisch (Erben Thanisch)',\n",
       " 'Benoît Girard',\n",
       " 'Domaine Ostertag',\n",
       " 'Concha y Toro',\n",
       " 'Sheldrake Point',\n",
       " 'Domaine Collotte',\n",
       " 'Domaine Allimant-Laugner',\n",
       " 'Margerum',\n",
       " 'Brander']"
      ]
     },
     "execution_count": 6,
     "metadata": {},
     "output_type": "execute_result"
    }
   ],
   "source": [
    "#q5\n",
    "list1=[]\n",
    "for i in range(len(csv_data)):\n",
    "    winery=cell(i, \"winery\")\n",
    "    description=cell(i,\"description\")\n",
    "    description=description.lower()\n",
    "    if len(list1)<1 and description.find(\"zesty\")!=-1:\n",
    "        list1.append(winery)\n",
    "    for j in list1:\n",
    "        if j==winery:\n",
    "            num=1\n",
    "            break\n",
    "    if num>0:\n",
    "        num=0\n",
    "    elif winery!= None:\n",
    "        if description.find(\"zesty\")!=-1:\n",
    "            list1.append(winery)\n",
    "        \n",
    "           \n",
    "list1"
   ]
  },
  {
   "cell_type": "code",
   "execution_count": 7,
   "metadata": {},
   "outputs": [
    {
     "data": {
      "text/plain": [
       "['Maurodos',\n",
       " 'Bodega Carmen Rodríguez',\n",
       " 'Val de Los Frailes',\n",
       " 'Matarromera',\n",
       " 'Palacio del Burgo']"
      ]
     },
     "execution_count": 7,
     "metadata": {},
     "output_type": "execute_result"
    }
   ],
   "source": [
    "#q6\n",
    "list1=[]\n",
    "for i in range(len(csv_data)):\n",
    "    winery=cell(i, \"winery\")\n",
    "    description=cell(i,\"description\")\n",
    "    description=description.lower()\n",
    "    if len(list1)<1 and description.find(\"black-fruit aroma\")!=-1:\n",
    "        list1.append(winery)\n",
    "    for j in list1:\n",
    "        if j==winery:\n",
    "            num=1\n",
    "            break\n",
    "    if num>0:\n",
    "        num=0\n",
    "    elif winery!= None:\n",
    "        if description.find(\"black-fruit aroma\")!=-1:\n",
    "            list1.append(winery)\n",
    "        \n",
    "           \n",
    "list1"
   ]
  },
  {
   "cell_type": "code",
   "execution_count": 8,
   "metadata": {},
   "outputs": [
    {
     "data": {
      "text/plain": [
       "['Cabernet Sauvignon']"
      ]
     },
     "execution_count": 8,
     "metadata": {},
     "output_type": "execute_result"
    }
   ],
   "source": [
    "#q7\n",
    "list1=[]\n",
    "compare=\"antibusgovernance\"\n",
    "for i in range(len(csv_data)):\n",
    "    variet=cell(i, \"variety\")\n",
    "    varieties=variet\n",
    "    varieties=varieties.lower().replace(\" \",\"\")\n",
    "    varieties=sorted(varieties)\n",
    "    compare=sorted(compare)\n",
    "    if len(list1)<1 and varieties==compare:\n",
    "        list1.append(variet)\n",
    "    for j in list1:\n",
    "        if j==variet:\n",
    "            num=1\n",
    "            break\n",
    "    if num>0:\n",
    "        num=0\n",
    "    elif variet!= None:\n",
    "        if varieties==compare:\n",
    "            list1.append(variet)\n",
    "        \n",
    "           \n",
    "list1"
   ]
  },
  {
   "cell_type": "code",
   "execution_count": 9,
   "metadata": {},
   "outputs": [
    {
     "data": {
      "text/plain": [
       "['Tempranillo Blend']"
      ]
     },
     "execution_count": 9,
     "metadata": {},
     "output_type": "execute_result"
    }
   ],
   "source": [
    "#q8\n",
    "list1=[]\n",
    "compare=\"bannedpetrolmill\"\n",
    "for i in range(len(csv_data)):\n",
    "    variet=cell(i, \"variety\")\n",
    "    varieties=variet\n",
    "    varieties=varieties.lower().replace(\" \",\"\")\n",
    "    varieties=sorted(varieties)\n",
    "    compare=sorted(compare)\n",
    "    if len(list1)<1 and varieties==compare:\n",
    "        list1.append(variet)\n",
    "    for j in list1:\n",
    "        if j==variet:\n",
    "            num=1\n",
    "            break\n",
    "    if num>0:\n",
    "        num=0\n",
    "    elif variet!= None:\n",
    "        if varieties==compare:\n",
    "            list1.append(variet)\n",
    "        \n",
    "           \n",
    "list1"
   ]
  },
  {
   "cell_type": "code",
   "execution_count": 10,
   "metadata": {},
   "outputs": [
    {
     "data": {
      "text/plain": [
       "['Cabernet Sauvignon', 'Sauvignon Blanc', 'Pinot Noir']"
      ]
     },
     "execution_count": 10,
     "metadata": {},
     "output_type": "execute_result"
    }
   ],
   "source": [
    "#q9\n",
    "list1=[]\n",
    "mostpoints=0\n",
    "for i in range(len(csv_data)):\n",
    "    points=cell(i, \"points\")\n",
    "    points=int(points)\n",
    "    country=cell(i,\"country\")\n",
    "    variety=cell(i,\"variety\")\n",
    "    if len(list1)<1 and country==\"US\" and points>=mostpoints:\n",
    "        if(points>mostpoints):\n",
    "            mostpoints=points\n",
    "            list1=[]\n",
    "            list1.append(variety)\n",
    "        else:\n",
    "            list1.append(variety)\n",
    "    for j in list1:\n",
    "        if j==variety:\n",
    "            num=1\n",
    "            break\n",
    "    if num>0:\n",
    "        num=0\n",
    "    elif variety!= None:\n",
    "        if country==\"US\" and points>=mostpoints:\n",
    "            if(points>mostpoints):\n",
    "                mostpoints=points\n",
    "                list1=[]\n",
    "                list1.append(variety)\n",
    "            else:\n",
    "                list1.append(variety)\n",
    "list1"
   ]
  },
  {
   "cell_type": "code",
   "execution_count": 11,
   "metadata": {},
   "outputs": [
    {
     "data": {
      "text/plain": [
       "['Tinta de Toro']"
      ]
     },
     "execution_count": 11,
     "metadata": {},
     "output_type": "execute_result"
    }
   ],
   "source": [
    "#q10\n",
    "list1=[]\n",
    "mostpoints=0\n",
    "for i in range(len(csv_data)):\n",
    "    points=cell(i, \"points\")\n",
    "    points=int(points)\n",
    "    country=cell(i,\"country\")\n",
    "    variety=cell(i,\"variety\")\n",
    "    if len(list1)<1 and country==\"Spain\" and points>=mostpoints:\n",
    "        if(points>mostpoints):\n",
    "            mostpoints=points\n",
    "            list1=[]\n",
    "            list1.append(variety)\n",
    "        else:\n",
    "            list1.append(variety)\n",
    "    for j in list1:\n",
    "        if j==variety:\n",
    "            num=1\n",
    "            break\n",
    "    if num>0:\n",
    "        num=0\n",
    "    elif variety!= None:\n",
    "        if country==\"Spain\" and points>=mostpoints:\n",
    "            if(points>mostpoints):\n",
    "                mostpoints=points\n",
    "                list1=[]\n",
    "                list1.append(variety)\n",
    "            else:\n",
    "                list1.append(variety)\n",
    "list1"
   ]
  },
  {
   "cell_type": "code",
   "execution_count": 12,
   "metadata": {},
   "outputs": [
    {
     "data": {
      "text/plain": [
       "2.183421985815603"
      ]
     },
     "execution_count": 12,
     "metadata": {},
     "output_type": "execute_result"
    }
   ],
   "source": [
    "#q11\n",
    "wineries=0\n",
    "ave=0\n",
    "for i in range(len(csv_data)):\n",
    "    points=cell(i, \"points\")\n",
    "    price=cell(i,\"price\")\n",
    "    winery=cell(i,\"winery\")\n",
    "    if points!= None and price!=None:\n",
    "        points=float(points)\n",
    "        price=float(price)\n",
    "    if winery == \"Heitz\":\n",
    "        wineries+=1\n",
    "        ave=ave+(points/price)\n",
    "ave/wineries"
   ]
  },
  {
   "cell_type": "code",
   "execution_count": 13,
   "metadata": {},
   "outputs": [
    {
     "data": {
      "text/plain": [
       "1.288074888074888"
      ]
     },
     "execution_count": 13,
     "metadata": {},
     "output_type": "execute_result"
    }
   ],
   "source": [
    "#q12\n",
    "wineries=0\n",
    "ave=0\n",
    "for i in range(len(csv_data)):\n",
    "    points=cell(i, \"points\")\n",
    "    price=cell(i,\"price\")\n",
    "    winery=cell(i,\"winery\")\n",
    "    if points!= None and price!=None:\n",
    "        points=float(points)\n",
    "        price=float(price)\n",
    "    if winery == \"Ponzi\":\n",
    "        wineries+=1\n",
    "        ave=ave+(points/price)\n",
    "ave/wineries"
   ]
  },
  {
   "cell_type": "code",
   "execution_count": 14,
   "metadata": {},
   "outputs": [
    {
     "data": {
      "text/plain": [
       "'Spy Valley'"
      ]
     },
     "execution_count": 14,
     "metadata": {},
     "output_type": "execute_result"
    }
   ],
   "source": [
    "#q13\n",
    "average=0\n",
    "bestave=0\n",
    "winerybest=\"\"\n",
    "for i in range(len(csv_data)):\n",
    "    wineries=0\n",
    "    ave=0\n",
    "    winery1=cell(i,\"winery\")\n",
    "    country=cell(i,\"country\")\n",
    "    if country==\"New Zealand\":\n",
    "        for j in range(len(csv_data)):\n",
    "            points=cell(i, \"points\")\n",
    "            price=cell(i,\"price\")\n",
    "            winery=cell(i,\"winery\")\n",
    "            if points!= None and price!=None:\n",
    "                points=float(points)\n",
    "                price=float(price)\n",
    "            if winery == winery1:\n",
    "                wineries+=1\n",
    "                ave=ave+(points/price)\n",
    "        average=ave/wineries\n",
    "    if average>bestave:\n",
    "        winerybest=winery1\n",
    "        bestave=average\n",
    "        \n",
    "winerybest"
   ]
  },
  {
   "cell_type": "code",
   "execution_count": 15,
   "metadata": {},
   "outputs": [
    {
     "data": {
      "text/plain": [
       "'Riposte'"
      ]
     },
     "execution_count": 15,
     "metadata": {},
     "output_type": "execute_result"
    }
   ],
   "source": [
    "#q14\n",
    "average=0\n",
    "bestave=0\n",
    "winerybest=\"\"\n",
    "for i in range(len(csv_data)):\n",
    "    wineries=0\n",
    "    ave=0\n",
    "    winery1=cell(i,\"winery\")\n",
    "    country=cell(i,\"country\")\n",
    "    if country==\"Australia\":\n",
    "        for j in range(len(csv_data)):\n",
    "            points=cell(i, \"points\")\n",
    "            price=cell(i,\"price\")\n",
    "            winery=cell(i,\"winery\")\n",
    "            if points!= None and price!=None:\n",
    "                points=float(points)\n",
    "                price=float(price)\n",
    "            if winery == winery1:\n",
    "                wineries+=1\n",
    "                ave=ave+(points/price)\n",
    "        average=ave/wineries\n",
    "    if average>bestave:\n",
    "        winerybest=winery1\n",
    "        bestave=average\n",
    "        \n",
    "winerybest"
   ]
  },
  {
   "cell_type": "code",
   "execution_count": 16,
   "metadata": {},
   "outputs": [
    {
     "data": {
      "text/plain": [
       "'Cave Spring'"
      ]
     },
     "execution_count": 16,
     "metadata": {},
     "output_type": "execute_result"
    }
   ],
   "source": [
    "#q15\n",
    "average=0\n",
    "bestave=0\n",
    "winerybest=\"\"\n",
    "for i in range(len(csv_data)):\n",
    "    wineries=0\n",
    "    ave=0\n",
    "    winery1=cell(i,\"winery\")\n",
    "    country=cell(i,\"country\")\n",
    "    if country==\"Canada\":\n",
    "        for j in range(len(csv_data)):\n",
    "            points=cell(i, \"points\")\n",
    "            price=cell(i,\"price\")\n",
    "            winery=cell(i,\"winery\")\n",
    "            if points!= None and price!=None:\n",
    "                points=float(points)\n",
    "                price=float(price)\n",
    "            if winery == winery1:\n",
    "                wineries+=1\n",
    "                ave=ave+(points/price)\n",
    "        average=ave/wineries\n",
    "    if average>bestave:\n",
    "        winerybest=winery1\n",
    "        bestave=average\n",
    "        \n",
    "winerybest"
   ]
  },
  {
   "cell_type": "code",
   "execution_count": 17,
   "metadata": {},
   "outputs": [
    {
     "data": {
      "text/plain": [
       "['Portuguese White', 'Portuguese Rosé', 'Portuguese Red']"
      ]
     },
     "execution_count": 17,
     "metadata": {},
     "output_type": "execute_result"
    }
   ],
   "source": [
    "#q16\n",
    "list1=[]\n",
    "mostpoints=0\n",
    "for i in range(len(csv_data)):\n",
    "    winery=cell(i, \"winery\")\n",
    "    variety=cell(i,\"variety\")\n",
    "    if len(list1)<1 and winery==\"Quinta Nova de Nossa Senhora do Carmo\":\n",
    "        list1.append(variety)\n",
    "    for j in list1:\n",
    "        if j==variety:\n",
    "            num=1\n",
    "            break\n",
    "    if num>0:\n",
    "        num=0\n",
    "    elif variety!= None and winery==\"Quinta Nova de Nossa Senhora do Carmo\":\n",
    "        list1.append(variety)\n",
    "list1"
   ]
  },
  {
   "cell_type": "code",
   "execution_count": 18,
   "metadata": {},
   "outputs": [
    {
     "data": {
      "text/plain": [
       "['Portuguese Red', 'Portuguese White']"
      ]
     },
     "execution_count": 18,
     "metadata": {},
     "output_type": "execute_result"
    }
   ],
   "source": [
    "#q17\n",
    "list1=[]\n",
    "mostpoints=0\n",
    "for i in range(len(csv_data)):\n",
    "    winery=cell(i, \"winery\")\n",
    "    variety=cell(i,\"variety\")\n",
    "    if len(list1)<1 and winery==\"Adega Cooperativa de Borba\":\n",
    "        list1.append(variety)\n",
    "    for j in list1:\n",
    "        if j==variety:\n",
    "            num=1\n",
    "            break\n",
    "    if num>0:\n",
    "        num=0\n",
    "    elif variety!= None and winery==\"Adega Cooperativa de Borba\":\n",
    "        list1.append(variety)\n",
    "list1"
   ]
  },
  {
   "cell_type": "code",
   "execution_count": 19,
   "metadata": {},
   "outputs": [
    {
     "data": {
      "text/plain": [
       "['Touriga Nacional', 'Portuguese Sparkling', 'Portuguese Red']"
      ]
     },
     "execution_count": 19,
     "metadata": {},
     "output_type": "execute_result"
    }
   ],
   "source": [
    "#q18\n",
    "list1=[]\n",
    "mostpoints=0\n",
    "for i in range(len(csv_data)):\n",
    "    winery=cell(i, \"winery\")\n",
    "    variety=cell(i,\"variety\")\n",
    "    if len(list1)<1 and winery==\"Global Wines\":\n",
    "        list1.append(variety)\n",
    "    for j in list1:\n",
    "        if j==variety:\n",
    "            num=1\n",
    "            break\n",
    "    if num>0:\n",
    "        num=0\n",
    "    elif variety!= None and winery==\"Global Wines\":\n",
    "        list1.append(variety)\n",
    "list1"
   ]
  },
  {
   "cell_type": "code",
   "execution_count": 20,
   "metadata": {},
   "outputs": [
    {
     "data": {
      "text/plain": [
       "66.66666666666666"
      ]
     },
     "execution_count": 20,
     "metadata": {},
     "output_type": "execute_result"
    }
   ],
   "source": [
    "#q19\n",
    "list1=[]\n",
    "list2=[]\n",
    "numtot=0\n",
    "num=0\n",
    "for i in range(len(csv_data)):\n",
    "    winery=cell(i,\"winery\")\n",
    "    variety=cell(i,\"variety\")\n",
    "    if len(list1)<1 and winery==\"Quinta Nova de Nossa Senhora do Carmo\":\n",
    "        list1.append(variety)\n",
    "    for j in list1:\n",
    "        if j==variety:\n",
    "            num=1\n",
    "            break\n",
    "    if num>0:\n",
    "        num=0\n",
    "    elif variety!= None:\n",
    "        if winery==\"Quinta Nova de Nossa Senhora do Carmo\":\n",
    "            list1.append(variety)\n",
    "for i in range(len(csv_data)):\n",
    "    winery=cell(i,\"winery\")\n",
    "    variety=cell(i,\"variety\")\n",
    "    if len(list2)<1 and winery==\"Adega Cooperativa de Borba\":\n",
    "        list2.append(variety)\n",
    "    for j in list2:\n",
    "        if j==variety:\n",
    "            num=1\n",
    "            break\n",
    "    if num>0:\n",
    "        num=0\n",
    "    elif variety!= None:\n",
    "        if winery==\"Adega Cooperativa de Borba\":\n",
    "            list2.append(variety)\n",
    "numtot=len(list1)           \n",
    "for x in list1:\n",
    "    for y in list2:\n",
    "        if x==y:\n",
    "            num+=1\n",
    "(num/numtot)*100"
   ]
  },
  {
   "cell_type": "code",
   "execution_count": 21,
   "metadata": {},
   "outputs": [
    {
     "data": {
      "text/plain": [
       "33.33333333333333"
      ]
     },
     "execution_count": 21,
     "metadata": {},
     "output_type": "execute_result"
    }
   ],
   "source": [
    "#q20\n",
    "list1=[]\n",
    "list2=[]\n",
    "numtot=0\n",
    "num=0\n",
    "for i in range(len(csv_data)):\n",
    "    winery=cell(i,\"winery\")\n",
    "    variety=cell(i,\"variety\")\n",
    "    if len(list1)<1 and winery==\"Quinta Nova de Nossa Senhora do Carmo\":\n",
    "        list1.append(variety)\n",
    "    for j in list1:\n",
    "        if j==variety:\n",
    "            num=1\n",
    "            break\n",
    "    if num>0:\n",
    "        num=0\n",
    "    elif variety!= None:\n",
    "        if winery==\"Quinta Nova de Nossa Senhora do Carmo\":\n",
    "            list1.append(variety)\n",
    "for i in range(len(csv_data)):\n",
    "    winery=cell(i,\"winery\")\n",
    "    variety=cell(i,\"variety\")\n",
    "    if len(list2)<1 and winery==\"Global Wines\":\n",
    "        list2.append(variety)\n",
    "    for j in list2:\n",
    "        if j==variety:\n",
    "            num=1\n",
    "            break\n",
    "    if num>0:\n",
    "        num=0\n",
    "    elif variety!= None:\n",
    "        if winery==\"Global Wines\":\n",
    "            list2.append(variety)\n",
    "numtot=len(list1)           \n",
    "for x in list1:\n",
    "    for y in list2:\n",
    "        if x==y:\n",
    "            num+=1\n",
    "(num/numtot)*100"
   ]
  }
 ],
 "metadata": {
  "kernelspec": {
   "display_name": "Python 3",
   "language": "python",
   "name": "python3"
  },
  "language_info": {
   "codemirror_mode": {
    "name": "ipython",
    "version": 3
   },
   "file_extension": ".py",
   "mimetype": "text/x-python",
   "name": "python",
   "nbconvert_exporter": "python",
   "pygments_lexer": "ipython3",
   "version": "3.7.2"
  }
 },
 "nbformat": 4,
 "nbformat_minor": 2
}
