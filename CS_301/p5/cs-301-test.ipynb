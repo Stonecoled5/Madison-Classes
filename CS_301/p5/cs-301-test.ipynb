{
 "cells": [
  {
   "cell_type": "code",
   "execution_count": 1,
   "metadata": {},
   "outputs": [],
   "source": [
    "# project: p5\n",
    "# submitter-netid: cjohnstone\n",
    "# partner-netid: none\n",
    "import project"
   ]
  },
  {
   "cell_type": "code",
   "execution_count": 2,
   "metadata": {},
   "outputs": [
    {
     "data": {
      "text/plain": [
       "111"
      ]
     },
     "execution_count": 2,
     "metadata": {},
     "output_type": "execute_result"
    }
   ],
   "source": [
    "#q1\n",
    "project.count()"
   ]
  },
  {
   "cell_type": "code",
   "execution_count": 3,
   "metadata": {},
   "outputs": [
    {
     "data": {
      "text/plain": [
       "'Baker'"
      ]
     },
     "execution_count": 3,
     "metadata": {},
     "output_type": "execute_result"
    }
   ],
   "source": [
    "#q2\n",
    "project.get_name(0)"
   ]
  },
  {
   "cell_type": "code",
   "execution_count": 4,
   "metadata": {},
   "outputs": [
    {
     "data": {
      "text/plain": [
       "1"
      ]
     },
     "execution_count": 4,
     "metadata": {},
     "output_type": "execute_result"
    }
   ],
   "source": [
    "#q3\n",
    "project.get_deaths(110)"
   ]
  },
  {
   "cell_type": "code",
   "execution_count": 5,
   "metadata": {
    "scrolled": true
   },
   "outputs": [
    {
     "data": {
      "text/plain": [
       "1430000000"
      ]
     },
     "execution_count": 5,
     "metadata": {},
     "output_type": "execute_result"
    }
   ],
   "source": [
    "#q4\n",
    "s=project.get_damage(1)\n",
    "newstr = s.replace(\"B\", \"\")\n",
    "num=float(newstr)\n",
    "num=num*1000000000\n",
    "num=int(num)\n",
    "num"
   ]
  },
  {
   "cell_type": "code",
   "execution_count": 6,
   "metadata": {},
   "outputs": [
    {
     "data": {
      "text/plain": [
       "True"
      ]
     },
     "execution_count": 6,
     "metadata": {},
     "output_type": "execute_result"
    }
   ],
   "source": [
    "#q5\n",
    "for i in range(project.count()):\n",
    "    if project.get_name(i)==\"Flossy\":\n",
    "        boole=True\n",
    "        break\n",
    "boole"
   ]
  },
  {
   "cell_type": "code",
   "execution_count": 7,
   "metadata": {
    "scrolled": true
   },
   "outputs": [
    {
     "data": {
      "text/plain": [
       "2"
      ]
     },
     "execution_count": 7,
     "metadata": {},
     "output_type": "execute_result"
    }
   ],
   "source": [
    "#q6\n",
    "count=0\n",
    "for i in range(project.count()):\n",
    "    name=project.get_name(i).lower()\n",
    "    if name==\"floyd\":\n",
    "        count+=1\n",
    "count"
   ]
  },
  {
   "cell_type": "code",
   "execution_count": 8,
   "metadata": {
    "scrolled": true
   },
   "outputs": [
    {
     "data": {
      "text/plain": [
       "13129"
      ]
     },
     "execution_count": 8,
     "metadata": {},
     "output_type": "execute_result"
    }
   ],
   "source": [
    "#q7\n",
    "num1=0\n",
    "for i in range(project.count()):\n",
    "    num1=num1+project.get_deaths(i)\n",
    "    \n",
    "num1"
   ]
  },
  {
   "cell_type": "code",
   "execution_count": 9,
   "metadata": {},
   "outputs": [
    {
     "data": {
      "text/plain": [
       "792890014998"
      ]
     },
     "execution_count": 9,
     "metadata": {},
     "output_type": "execute_result"
    }
   ],
   "source": [
    "#q8\n",
    "totdam=0\n",
    "for i in range(project.count()):\n",
    "    dam=project.get_damage(i)\n",
    "    if dam.find(\"M\")!=-1:\n",
    "        dam=float(dam[:-1])*1000000\n",
    "    elif dam.find(\"B\")!=-1:\n",
    "            dam=float(dam[:-1])*1000000000\n",
    "    elif dam.find(\"K\")!=-1:\n",
    "        dam=float(dam[:-1])*1000\n",
    "       \n",
    "    totdam=totdam+int(dam)\n",
    "            \n",
    "totdam           "
   ]
  },
  {
   "cell_type": "code",
   "execution_count": 10,
   "metadata": {},
   "outputs": [
    {
     "data": {
      "text/plain": [
       "190"
      ]
     },
     "execution_count": 10,
     "metadata": {},
     "output_type": "execute_result"
    }
   ],
   "source": [
    "#q9\n",
    "maxspeed=0\n",
    "for i in range(project.count()):\n",
    "    speed=project.get_mph(i)\n",
    "    if speed>maxspeed:\n",
    "        maxspeed=speed\n",
    "        \n",
    "maxspeed"
   ]
  },
  {
   "cell_type": "code",
   "execution_count": 11,
   "metadata": {},
   "outputs": [
    {
     "data": {
      "text/plain": [
       "'Allen'"
      ]
     },
     "execution_count": 11,
     "metadata": {},
     "output_type": "execute_result"
    }
   ],
   "source": [
    "#q10\n",
    "name1=\"\"\n",
    "for i in range(project.count()):\n",
    "    speed=project.get_mph(i)\n",
    "    if maxspeed==speed:\n",
    "        name1=project.get_name(i)\n",
    "        \n",
    "name1"
   ]
  },
  {
   "cell_type": "code",
   "execution_count": 12,
   "metadata": {},
   "outputs": [
    {
     "data": {
      "text/plain": [
       "1980"
      ]
     },
     "execution_count": 12,
     "metadata": {},
     "output_type": "execute_result"
    }
   ],
   "source": [
    "#q11\n",
    "year=0\n",
    "for i in range(project.count()):\n",
    "    speed=project.get_mph(i)\n",
    "    if maxspeed==speed:\n",
    "        year=project.get_year(i)\n",
    "        \n",
    "year"
   ]
  },
  {
   "cell_type": "code",
   "execution_count": 13,
   "metadata": {},
   "outputs": [
    {
     "data": {
      "text/plain": [
       "75"
      ]
     },
     "execution_count": 13,
     "metadata": {},
     "output_type": "execute_result"
    }
   ],
   "source": [
    "#q12\n",
    "minspeed=maxspeed\n",
    "for i in range(project.count()):\n",
    "    speed=project.get_mph(i)\n",
    "    if speed<minspeed:\n",
    "        minspeed=speed\n",
    "        \n",
    "minspeed"
   ]
  },
  {
   "cell_type": "code",
   "execution_count": 14,
   "metadata": {},
   "outputs": [
    {
     "data": {
      "text/plain": [
       "'Maria'"
      ]
     },
     "execution_count": 14,
     "metadata": {},
     "output_type": "execute_result"
    }
   ],
   "source": [
    "#q13\n",
    "maxdeaths=0\n",
    "for i in range(project.count()):\n",
    "    deaths=project.get_deaths(i)\n",
    "    if deaths>maxdeaths:\n",
    "        maxdeaths=deaths\n",
    "for i in range(project.count()):\n",
    "    if maxdeaths==project.get_deaths(i):\n",
    "        name=project.get_name(i)\n",
    "        \n",
    "name  "
   ]
  },
  {
   "cell_type": "code",
   "execution_count": 15,
   "metadata": {},
   "outputs": [
    {
     "data": {
      "text/plain": [
       "'Jeanne'"
      ]
     },
     "execution_count": 15,
     "metadata": {},
     "output_type": "execute_result"
    }
   ],
   "source": [
    "#q14\n",
    "maxdeaths=0\n",
    "for i in range(project.count()):\n",
    "    deaths=project.get_deaths(i)\n",
    "    year=project.get_year(i)\n",
    "    if year<=2016:\n",
    "        if deaths>maxdeaths:\n",
    "            maxdeaths=deaths\n",
    "    else:\n",
    "        continue\n",
    "for i in range(project.count()):\n",
    "    if maxdeaths==project.get_deaths(i):\n",
    "        name=project.get_name(i)\n",
    "name"
   ]
  },
  {
   "cell_type": "code",
   "execution_count": 16,
   "metadata": {
    "scrolled": true
   },
   "outputs": [
    {
     "data": {
      "text/plain": [
       "'Katrina'"
      ]
     },
     "execution_count": 16,
     "metadata": {},
     "output_type": "execute_result"
    }
   ],
   "source": [
    "#q15\n",
    "maxdeaths=0\n",
    "for i in range(project.count()):\n",
    "    deaths=project.get_deaths(i)\n",
    "    year=project.get_year(i)\n",
    "    if year<=2016 and year>=2005:\n",
    "        if deaths>maxdeaths:\n",
    "            maxdeaths=deaths\n",
    "    else:\n",
    "        continue\n",
    "for i in range(project.count()):\n",
    "    if maxdeaths==project.get_deaths(i):\n",
    "        name=project.get_name(i)\n",
    "name"
   ]
  },
  {
   "cell_type": "code",
   "execution_count": 17,
   "metadata": {},
   "outputs": [
    {
     "data": {
      "text/plain": [
       "4452"
      ]
     },
     "execution_count": 17,
     "metadata": {},
     "output_type": "execute_result"
    }
   ],
   "source": [
    "#q16\n",
    "def decade_deaths(decade):\n",
    "    totdeaths=0\n",
    "    for i in range(project.count()):\n",
    "        deaths=project.get_deaths(i)\n",
    "        year=project.get_year(i)\n",
    "        newdec=year-year%10\n",
    "        if decade==newdec:\n",
    "            totdeaths=totdeaths+deaths\n",
    "    return totdeaths\n",
    "\n",
    "decade_deaths(2010)"
   ]
  },
  {
   "cell_type": "code",
   "execution_count": 18,
   "metadata": {},
   "outputs": [
    {
     "data": {
      "text/plain": [
       "5580"
      ]
     },
     "execution_count": 18,
     "metadata": {},
     "output_type": "execute_result"
    }
   ],
   "source": [
    "#q17\n",
    "decade_deaths(2000)"
   ]
  },
  {
   "cell_type": "code",
   "execution_count": 19,
   "metadata": {},
   "outputs": [
    {
     "data": {
      "text/plain": [
       "996"
      ]
     },
     "execution_count": 19,
     "metadata": {},
     "output_type": "execute_result"
    }
   ],
   "source": [
    "#q18\n",
    "decade_deaths(1990)"
   ]
  },
  {
   "cell_type": "code",
   "execution_count": 20,
   "metadata": {},
   "outputs": [
    {
     "data": {
      "text/plain": [
       "483"
      ]
     },
     "execution_count": 20,
     "metadata": {},
     "output_type": "execute_result"
    }
   ],
   "source": [
    "#q19\n",
    "decade_deaths(1980)"
   ]
  },
  {
   "cell_type": "code",
   "execution_count": 21,
   "metadata": {},
   "outputs": [
    {
     "data": {
      "text/plain": [
       "2000"
      ]
     },
     "execution_count": 21,
     "metadata": {},
     "output_type": "execute_result"
    }
   ],
   "source": [
    "#q20\n",
    "i=1950\n",
    "recdeaths=0\n",
    "thedecade=0\n",
    "startyear=3000\n",
    "while i<2020:\n",
    "    totdeaths=0\n",
    "    for j in range(project.count()):\n",
    "        deaths=project.get_deaths(j)\n",
    "        year=project.get_year(j)\n",
    "        newdec=year-year%10\n",
    "        if i==newdec:\n",
    "            totdeaths=totdeaths+deaths\n",
    "            if totdeaths>recdeaths:\n",
    "                recdeaths=totdeaths\n",
    "                thedecade=i\n",
    "                \n",
    "    i+=10\n",
    "thedecade"
   ]
  }
 ],
 "metadata": {
  "kernelspec": {
   "display_name": "Python 3",
   "language": "python",
   "name": "python3"
  },
  "language_info": {
   "codemirror_mode": {
    "name": "ipython",
    "version": 3
   },
   "file_extension": ".py",
   "mimetype": "text/x-python",
   "name": "python",
   "nbconvert_exporter": "python",
   "pygments_lexer": "ipython3",
   "version": "3.7.2"
  }
 },
 "nbformat": 4,
 "nbformat_minor": 2
}
